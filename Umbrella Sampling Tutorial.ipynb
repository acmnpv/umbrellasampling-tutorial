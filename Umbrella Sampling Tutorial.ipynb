{
 "cells": [
  {
   "cell_type": "code",
   "execution_count": 1,
   "metadata": {},
   "outputs": [],
   "source": [
    "# Disclaimer: This tutorial is by no means meant to be complete in presenting the complex\n",
    "# topic of Umbrella sampling (US) simulations and their analysis. It is meant to provide an\n",
    "# introduction and some initial guidelines on how to perform such simulations and analyse them."
   ]
  },
  {
   "cell_type": "code",
   "execution_count": 2,
   "metadata": {},
   "outputs": [],
   "source": [
    "# All steps in the tutorial can be performed through the notebook interface here, or by\n",
    "# running the individual python scripts that are located in the subfolders with the notebook.\n",
    "# The scripts will by default just prepare the run input files with a small number of steps\n",
    "# to run (so that it can be done on any machine), but can also be invoked with additional\n",
    "# options to perform the acutal simulations that provided the data used in the final analysis."
   ]
  },
  {
   "cell_type": "code",
   "execution_count": 3,
   "metadata": {},
   "outputs": [],
   "source": [
    "######################################\n",
    "# Step 1 - Preparing run input files #\n",
    "######################################"
   ]
  },
  {
   "cell_type": "code",
   "execution_count": 4,
   "metadata": {},
   "outputs": [],
   "source": [
    "# The tutorial is based on material available from both\n",
    "# Justin Lemkul (http://www.bevanlab.biochem.vt.edu/Pages/Personal/justin/gmx-tutorials/umbrella/index.html)\n",
    "# and Wes Barnett (https://wbarnett.us/tutorials/5_umbrella/)\n",
    "# We will be simulating a system of two pyrimidine molecules in water\n",
    "# and will try to estimate the Potential of Mean Force (PMF) for\n",
    "# moving those two molecules together from infinite distance."
   ]
  },
  {
   "cell_type": "code",
   "execution_count": 5,
   "metadata": {},
   "outputs": [],
   "source": [
    "# The files for the pyrimidine topology are available from the\n",
    "# http://virtualchemistry.org/ database on organic molecules.\n",
    "# They can be downloaded here for GROMACS \n",
    "# http://virtualchemistry.org/molecule.php?filename=pyrimidine.zmat\n",
    "# For the tutorial, the files have already been downloaded and prepared\n",
    "# for running, but if you want to try you can prepare a different small\n",
    "# molecule yourself!"
   ]
  },
  {
   "cell_type": "code",
   "execution_count": 13,
   "metadata": {},
   "outputs": [
    {
     "name": "stdout",
     "output_type": "stream",
     "text": [
      "Collecting gitpython\n",
      "  Downloading https://files.pythonhosted.org/packages/ac/c9/96d7c86c623cb065976e58c0f4898170507724d6b4be872891d763d686f4/GitPython-2.1.10-py2.py3-none-any.whl (449kB)\n",
      "Collecting gitdb2>=2.0.0 (from gitpython)\n",
      "  Downloading https://files.pythonhosted.org/packages/e0/95/c772c13b7c5740ec1a0924250e6defbf5dfdaee76a50d1c47f9c51f1cabb/gitdb2-2.0.3-py2.py3-none-any.whl (63kB)\n",
      "Collecting smmap2>=2.0.0 (from gitdb2>=2.0.0->gitpython)\n",
      "  Downloading https://files.pythonhosted.org/packages/e3/59/4e22f692e65f5f9271252a8e63f04ce4ad561d4e06192478ee48dfac9611/smmap2-2.0.3-py2.py3-none-any.whl\n",
      "Installing collected packages: smmap2, gitdb2, gitpython\n",
      "Successfully installed gitdb2-2.0.3 gitpython-2.1.10 smmap2-2.0.3\n"
     ]
    },
    {
     "data": {
      "text/plain": [
       "0"
      ]
     },
     "execution_count": 13,
     "metadata": {},
     "output_type": "execute_result"
    }
   ],
   "source": [
    "# The tutorial files are all available through git from bitbucket.\n",
    "# To set up the tutorial contents, we will run git clone to obtain\n",
    "# all the files and set up the directory structure\n",
    "import pip\n",
    "pip.main(['install', 'gitpython'])"
   ]
  },
  {
   "cell_type": "code",
   "execution_count": 14,
   "metadata": {},
   "outputs": [],
   "source": [
    "import git\n",
    "git.Repo.clone_from(git_url, repo_dir)"
   ]
  },
  {
   "cell_type": "code",
   "execution_count": 8,
   "metadata": {},
   "outputs": [],
   "source": [
    "# now we get the topology information for pyrimidine from the database\n",
    "# we need the itp file, ff definition and gas phase structure at 298K\n",
    "\n",
    "\n",
    "import urllib2\n",
    "\n",
    "attempts = 0\n",
    "\n",
    "while attempts < 3:\n",
    "    try:\n",
    "        response = urllib2.urlopen(\"http://virtualchemistry.org/FORCE_FIELD/OPLS/FF/minyan-ffoplsaa.itp\", timeout = 5)\n",
    "        content = response.read()\n",
    "        f = open( \"0-topo/ffoplsaa.itp\", 'w' )\n",
    "        f.write( content )\n",
    "        f.close()\n",
    "        break\n",
    "    except urllib2.URLError as e:\n",
    "        attempts += 1\n",
    "        print type(e)\n",
    "\n"
   ]
  },
  {
   "cell_type": "code",
   "execution_count": null,
   "metadata": {},
   "outputs": [],
   "source": []
  }
 ],
 "metadata": {
  "kernelspec": {
   "display_name": "Python 2",
   "language": "python",
   "name": "python2"
  },
  "language_info": {
   "codemirror_mode": {
    "name": "ipython",
    "version": 2
   },
   "file_extension": ".py",
   "mimetype": "text/x-python",
   "name": "python",
   "nbconvert_exporter": "python",
   "pygments_lexer": "ipython2",
   "version": "2.7.15"
  }
 },
 "nbformat": 4,
 "nbformat_minor": 2
}
