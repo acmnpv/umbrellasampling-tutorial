{
 "cells": [
  {
   "cell_type": "markdown",
   "metadata": {},
   "source": [
    "# Disclaimer: \n",
    "This tutorial is by no means meant to be complete in presenting the complex topic of Umbrella sampling (US) simulations and their analysis. It is meant to provide an introduction and some initial guidelines on how to perform such simulations and analyse them."
   ]
  },
  {
   "cell_type": "markdown",
   "metadata": {},
   "source": [
    "# GROMACS Umbrella Sampling Tutorial\n",
    "This tutorial is aimed at providing the information on how to run\n",
    "and analyse Umbrella Sampling (US) simulations in GROMACS. It is based on\n",
    "both the tutorial material available from Justin Lemkul at\n",
    "http://www.bevanlab.biochem.vt.edu/Pages/Personal/justin/gmx-tutorials/umbrella/index.html\n",
    "and Wes Barnett at https://wbarnett.us/tutorials/5_umbrella/.\n",
    "Umbrella Sampling is a method aimed to force systems to explore states in phase space\n",
    "that are unaccessible during normal Molecular Dynamics (MD) simulations,\n",
    "by applying a bias potential to  a possition on a given reaction coordinate.\n",
    "\n",
    "*Author: Paul Bauer\n",
    "Email: pbauer@kth.se*"
   ]
  },
  {
   "cell_type": "markdown",
   "metadata": {},
   "source": [
    "# Basic Information\n",
    "All steps in the tutorial can be performed through the notebook interface here, or by\n",
    "running the individual python scripts that are located in the subfolders with the notebook.\n",
    "The scripts will by default just prepare the run input files\n",
    "(so that it can be done on any machine), but can also be invoked with additional\n",
    "options to perform the actual simulations that provided the data used in the final analysis.\n",
    "\n",
    "\n",
    "\n",
    "## System information\n",
    "We will be simulating a system of two pyrimidine molecules in water\n",
    "and will try to estimate the Potential of Mean Force (PMF) for\n",
    "moving those two molecules together from infinite distance.\n",
    "<img src=\"pyrimidine.png\" alt=\"pyr\" style=\"height: 300px;\"/>\n",
    "\n",
    "\n",
    "## File location and availability\n",
    "The files for the pyrimidine topology are available from the\n",
    "http://virtualchemistry.org/ database on organic molecules.\n",
    "They can be downloaded here for GROMACS \n",
    "http://virtualchemistry.org/molecule.php?filename=pyrimidine.zmat\n",
    "For the tutorial, the files have already been downloaded and prepared\n",
    "for running, but if you want to try you can prepare a different small\n",
    "molecule yourself!"
   ]
  },
  {
   "cell_type": "markdown",
   "metadata": {},
   "source": [
    "# Tutorial directory structure\n",
    "The tutorial is based on several folders that are included in the repository\n",
    "and is automatically set up when the material is downloaded.\n",
    "\n",
    "\n",
    "All the files to perform the\n",
    "simulation and run the analysis are present.\n",
    "The following directories are present:\n",
    "* 0-files\n",
    "  * Containing all the unmodified files used for setting up the simulation\n",
    "  * These include an empty topology with just water in a box, as well\n",
    "    as the topology files for pyrimidine\n",
    "* 1-topology\n",
    "  * Containing inputs to generate the basic topology with \n",
    "    two pyrimidine molecules by using gmx insert-molecules\n",
    "  * Also the folders for the steps to change the box size, solvation\n",
    "    and adding of ions \n",
    "* 2-umbrella\n",
    "  * Contains a set of scripts to run the actual simulations\n",
    "    for each window of the reaction coordinate. \n",
    "  * This is meant to be used on a cluster instead, and running the jobs is not\n",
    "    part of this tutorial\n",
    "* 3-analysis\n",
    "  * Folder with data from simulations performed previously that can\n",
    "    be analysed to obtain the PMF of the simulation"
   ]
  },
  {
   "cell_type": "markdown",
   "metadata": {},
   "source": [
    "# Setting up the environment\n",
    "First, some basic python libraries are loaded, as well as a set of custom helper functions that\n",
    "wrap the calls to the GROMACS binaries"
   ]
  },
  {
   "cell_type": "code",
   "execution_count": null,
   "metadata": {},
   "outputs": [],
   "source": [
    "import os\n",
    "import shutil\n",
    "import subprocess\n",
    "import math\n",
    "import numpy as np\n",
    "import matplotlib.pyplot as plt"
   ]
  },
  {
   "cell_type": "markdown",
   "metadata": {},
   "source": [
    "We start by importing all our helper functions"
   ]
  },
  {
   "cell_type": "code",
   "execution_count": null,
   "metadata": {},
   "outputs": [],
   "source": [
    "from functions import *"
   ]
  },
  {
   "cell_type": "markdown",
   "metadata": {},
   "source": [
    "If you want to have a look at the directory structure, you can do so through either\n",
    "a local shell or here with the command below"
   ]
  },
  {
   "cell_type": "code",
   "execution_count": null,
   "metadata": {},
   "outputs": [],
   "source": [
    "listdirectory('.')"
   ]
  },
  {
   "cell_type": "markdown",
   "metadata": {},
   "source": [
    "Followed by preparation of the actual simulations by checking that we have a GROMACS\n",
    "installation in our $PATH to make sure we can run the program"
   ]
  },
  {
   "cell_type": "code",
   "execution_count": null,
   "metadata": {},
   "outputs": [],
   "source": [
    "if not which('gmx'):\n",
    "    print \"%s not found in $PATH\" % 'gmx'"
   ]
  },
  {
   "cell_type": "markdown",
   "metadata": {},
   "source": [
    "Followed by setting the global path name"
   ]
  },
  {
   "cell_type": "code",
   "execution_count": null,
   "metadata": {},
   "outputs": [],
   "source": [
    "globalpath = os.getcwd()\n",
    "print globalpath"
   ]
  },
  {
   "cell_type": "markdown",
   "metadata": {},
   "source": [
    "If the script tells you that gmx (the GROMACS wrapper binary)\n",
    "is not in the $PATH, close the notebook, source the used GROMACS\n",
    "installation and try again"
   ]
  },
  {
   "cell_type": "markdown",
   "metadata": {},
   "source": [
    "# Setting up input files and geometry\n",
    "We will enter the subdirectory to perform the system setup and generate the\n",
    "topology, based on the global path set up before.\n",
    "\n",
    "You can also check yourself in the shell that you are in the correct directory now if needed."
   ]
  },
  {
   "cell_type": "code",
   "execution_count": null,
   "metadata": {},
   "outputs": [],
   "source": [
    "os.chdir(globalpath+'/1-topology/insert')\n",
    "print os.getcwd()"
   ]
  },
  {
   "cell_type": "markdown",
   "metadata": {},
   "source": [
    "## Prepare initial topology by inserting two molecules of pyrimidine into an empty box\n",
    "We are using the python api to execute GROMACS wrapper binary with the arguments to run\n",
    "the `insert-molecules` module that allows us to place two molecules of or organic molecule\n",
    "in the simulation box. *As a note, there are other ways to do this as well*\n",
    "\n",
    "To use the api, we need to build a list of all the individual strings in the command.\n",
    "We want to insert (option `-ci`) the molecule found in the `pyrimidine_T298.15_gas.pdb` file.\n",
    "We want two (`nmol 2`) molecules in the final structure, with a maximum box size of 2 nm in each direction\n",
    "`-box 2 2 2`. This is needed because in general the distance for US sampling coordiantes can not be larger then\n",
    "half of the box size. The final file written will be `pyrimidine_insert.gro`.\n",
    "\n",
    "The call to `subprocess.check_call` will execute the binary independently from the notebook\n",
    "and also tells you what goes wrong if the execution fails. An alternative would be the use\n",
    "of the exclamation mark before the command being executed. For all future commands, we have\n",
    "provided first a string of the command, that is later split into the list needed for the\n",
    "invocation."
   ]
  },
  {
   "cell_type": "code",
   "execution_count": null,
   "metadata": {},
   "outputs": [],
   "source": [
    "command = \"gmx insert-molecules -ci pyrimidine_T298.15_gas.pdb -box 2 2 2 -nmol 2 -o pyrimidine_insert.gro\"\n",
    "commandlist=command.split()\n",
    "print command\n",
    "print commandlist"
   ]
  },
  {
   "cell_type": "code",
   "execution_count": null,
   "metadata": {},
   "outputs": [],
   "source": [
    "subprocess.check_call(commandlist)"
   ]
  },
  {
   "cell_type": "markdown",
   "metadata": {},
   "source": [
    "This will give us the new structure file with the two molecules randomly oriented\n",
    "we can copy this file to the next directory to change the size of the \n",
    "simulation box so that we can later calculate the full PMF.\n",
    "\n",
    "You can check that the file is present with the next command\n",
    "that is imported from the `functions.py` file"
   ]
  },
  {
   "cell_type": "code",
   "execution_count": null,
   "metadata": {},
   "outputs": [],
   "source": [
    "listdirectory('.')"
   ]
  },
  {
   "cell_type": "markdown",
   "metadata": {},
   "source": [
    "To move the file to the next directory, we again use the python api to declare the files to copy\n",
    "and the destination based on the absolute path defined before."
   ]
  },
  {
   "cell_type": "code",
   "execution_count": null,
   "metadata": {},
   "outputs": [],
   "source": [
    "structurefile = \"pyrimidine_insert.gro\"\n",
    "nextdir = globalpath+\"/1-topology/box\"\n",
    "shutil.copy2(structurefile,nextdir)"
   ]
  },
  {
   "cell_type": "markdown",
   "metadata": {},
   "source": [
    "Now move to the next directory and again check that the correct files are present"
   ]
  },
  {
   "cell_type": "code",
   "execution_count": null,
   "metadata": {},
   "outputs": [],
   "source": [
    "os.chdir(nextdir)\n",
    "print os.getcwd()\n",
    "listdirectory('.')"
   ]
  },
  {
   "cell_type": "markdown",
   "metadata": {},
   "source": [
    "## Changing box dimensions\n",
    "In this directory, we change the box to be 5 nm in each direction to allow us to sample a PMF\n",
    "for a distance of up to 2.5 nm between the two molecules. We use `gmx editconf` to change the box size\n",
    "to 5 nm in each direction `box 5 5 5` and write a new output file `pyrimidine_largebox.gro`"
   ]
  },
  {
   "cell_type": "code",
   "execution_count": null,
   "metadata": {},
   "outputs": [],
   "source": [
    "command = \"gmx editconf -f pyrimidine_insert.gro -o pyrimidine_largebox.gro -box 5 5 5\"\n",
    "commandlist=command.split()\n",
    "print command\n",
    "print commandlist"
   ]
  },
  {
   "cell_type": "code",
   "execution_count": null,
   "metadata": {},
   "outputs": [],
   "source": [
    "subprocess.check_call(commandlist)"
   ]
  },
  {
   "cell_type": "markdown",
   "metadata": {},
   "source": [
    "## Topology preparation\n",
    "We have also prepared a topology file, topol.top, that can be used for the later steps.\n",
    "\n",
    "The script `writetopfile` from the `functions.py` file generates it in the current directory\n",
    "with the information needed to continue later.\n",
    "\n",
    "The topology file contains only the basic information for using two molecules\n",
    "of pyrimidine, as well as the location of the files needed to run the remaining steps."
   ]
  },
  {
   "cell_type": "code",
   "execution_count": null,
   "metadata": {},
   "outputs": [],
   "source": [
    "writetopfile(\"topol.top\", globalpath)"
   ]
  },
  {
   "cell_type": "markdown",
   "metadata": {},
   "source": [
    "We copy those files to the next directory to solvate the structure before the minimzation\n",
    "the file will be written with the information about its position, so it can properly include\n",
    "the correct forcefield that contains the information for pyrimidine.\n",
    "\n",
    "This time we have to copy several files, so we need to declare a list of all files,\n",
    "that are then copied in a loop."
   ]
  },
  {
   "cell_type": "code",
   "execution_count": null,
   "metadata": {},
   "outputs": [],
   "source": [
    "copyfiles = [\"pyrimidine_largebox.gro\", \"topol.top\"]\n",
    "nextdir = globalpath+\"/1-topology/solvate\"\n",
    "\n",
    "for files in copyfiles:\n",
    "    shutil.copy2(files,nextdir)"
   ]
  },
  {
   "cell_type": "markdown",
   "metadata": {},
   "source": [
    "Now move to the next directory and again check that the correct files are present"
   ]
  },
  {
   "cell_type": "code",
   "execution_count": null,
   "metadata": {},
   "outputs": [],
   "source": [
    "os.chdir(nextdir)\n",
    "print os.getcwd()\n",
    "listdirectory('.')"
   ]
  },
  {
   "cell_type": "markdown",
   "metadata": {},
   "source": [
    "## Basic solvation\n",
    "For the next step, we solvate the system with tip4p water using `gmx solvate`, again wrapped in the\n",
    "python api call."
   ]
  },
  {
   "cell_type": "code",
   "execution_count": null,
   "metadata": {},
   "outputs": [],
   "source": [
    "command = \"gmx solvate -cp pyrimidine_largebox.gro -cs tip4p -p topol.top -o solv.gro\"\n",
    "commandlist=command.split()\n",
    "print command\n",
    "print commandlist"
   ]
  },
  {
   "cell_type": "code",
   "execution_count": null,
   "metadata": {},
   "outputs": [],
   "source": [
    "subprocess.check_call(commandlist)"
   ]
  },
  {
   "cell_type": "markdown",
   "metadata": {},
   "source": [
    "Again, the files are copied and we move to the next directory."
   ]
  },
  {
   "cell_type": "code",
   "execution_count": null,
   "metadata": {},
   "outputs": [],
   "source": [
    "copyfiles = [\"solv.gro\", \"topol.top\"]\n",
    "nextdir = globalpath+\"/1-topology/ion\"\n",
    "for files in copyfiles:\n",
    "    shutil.copy2(files,nextdir)"
   ]
  },
  {
   "cell_type": "code",
   "execution_count": null,
   "metadata": {},
   "outputs": [],
   "source": [
    "os.chdir(nextdir)\n",
    "print os.getcwd()\n",
    "listdirectory('.')"
   ]
  },
  {
   "cell_type": "markdown",
   "metadata": {},
   "source": [
    "## Add ions and prepare final structure\n",
    "To have a final structure, we add ions to our initial system and prepare it for\n",
    "equilibration, by using the standard GROMACS commands for `gmx grompp`."
   ]
  },
  {
   "cell_type": "code",
   "execution_count": null,
   "metadata": {},
   "outputs": [],
   "source": [
    "command = \"gmx grompp -f ions -c solv -p topol -o ions\"\n",
    "commandlist=command.split()\n",
    "print command\n",
    "print commandlist"
   ]
  },
  {
   "cell_type": "code",
   "execution_count": null,
   "metadata": {},
   "outputs": [],
   "source": [
    "subprocess.check_call(commandlist)"
   ]
  },
  {
   "cell_type": "markdown",
   "metadata": {},
   "source": [
    "Adding ions follows by using `gmx genion`. Note that we have to pass the\n",
    "selection for the solvent atom group (here 4) to the program. In python, we\n",
    "can use the `os.pipe()` command to send the selection string to the program,\n",
    "and having the `check_call` function read it on standard input.\n",
    "On the command line, you would be using something like\n",
    "`echo 4 | gmx genion ...`.\n",
    "\n",
    "First, we generate the pipe with the selection."
   ]
  },
  {
   "cell_type": "code",
   "execution_count": null,
   "metadata": {},
   "outputs": [],
   "source": [
    "read, write = os.pipe()\n",
    "os.write(write, \"4\")\n",
    "os.close(write)"
   ]
  },
  {
   "cell_type": "code",
   "execution_count": null,
   "metadata": {},
   "outputs": [],
   "source": [
    "command = \"gmx genion -s ions -nname CL -pname NA -neutral -conc 0.15 -o ions -p topol.top\"\n",
    "commandlist=command.split()\n",
    "print command\n",
    "print commandlist"
   ]
  },
  {
   "cell_type": "code",
   "execution_count": null,
   "metadata": {},
   "outputs": [],
   "source": [
    "subprocess.check_call(commandlist, stdin=read)"
   ]
  },
  {
   "cell_type": "markdown",
   "metadata": {},
   "source": [
    "##This concludes the topology preparation section.\n",
    "\n",
    "Next, we will copy the final files to the run directory and prepare the\n",
    "index file needed to run the simulation with the different pull groups.\n",
    "\n",
    "There are multiple ways to generate index files, and you have seen how to use\n",
    "`gmx make_ndx` during the previous lecture. Here, we will use `gmx select` to generate\n",
    "a file containing the groups for our two pyrimidine molecules, and will merge\n",
    "those groups with a prepared files containing the remaining system.\n",
    "\n",
    "We have to manually add the selection string to the command, because it can get\n",
    "misformatted by python."
   ]
  },
  {
   "cell_type": "code",
   "execution_count": null,
   "metadata": {},
   "outputs": [],
   "source": [
    "command = \"gmx select -s ions.tpr -on mols -select\"\n",
    "commandlist=command.split()\n",
    "print command\n",
    "commandlist.append(\"mol 1; mol 2\")\n",
    "print commandlist"
   ]
  },
  {
   "cell_type": "code",
   "execution_count": null,
   "metadata": {},
   "outputs": [],
   "source": [
    "subprocess.check_call(commandlist)"
   ]
  },
  {
   "cell_type": "markdown",
   "metadata": {},
   "source": [
    "We concatenate the two files for the base system `system.ndx` and for the\n",
    "pyrimidine m.lecules `mols.ndx`-"
   ]
  },
  {
   "cell_type": "code",
   "execution_count": null,
   "metadata": {},
   "outputs": [],
   "source": [
    "filenames = ['system.ndx', 'mols.ndx']\n",
    "with open('index.ndx', 'w') as outfile:\n",
    "    for fname in filenames:\n",
    "        with open(fname) as infile:\n",
    "            outfile.write(infile.read())"
   ]
  },
  {
   "cell_type": "markdown",
   "metadata": {},
   "source": [
    "We now have all the files needed to run the simulations, and can proceed\n",
    "to setting up the input files for running GROMACS.\n",
    "\n",
    "This will again be done in a new directory, so we move there."
   ]
  },
  {
   "cell_type": "code",
   "execution_count": null,
   "metadata": {},
   "outputs": [],
   "source": [
    "copyfiles = [\"ions.gro\", \"topol.top\", \"index.ndx\"]\n",
    "nextdir = globalpath+\"/2-umbrella\"\n",
    "for files in copyfiles:\n",
    "    shutil.copy2(files,nextdir)"
   ]
  },
  {
   "cell_type": "code",
   "execution_count": null,
   "metadata": {},
   "outputs": [],
   "source": [
    "os.chdir(nextdir)\n",
    "print os.getcwd()\n",
    "listdirectory('.')"
   ]
  },
  {
   "cell_type": "markdown",
   "metadata": {},
   "source": [
    "# Running Umbrella Sampling in GROMACS\n",
    "\n",
    "In this directory, we will run the script that performs the simulation\n",
    "of the individual umbrella windows. As each of those simulations might take several hours,\n",
    "we will only prepare a set of example simulations and not actual run all of them.\n",
    "\n",
    "The python command used to prepare them can also be used to run them, but this should\n",
    "be done instead on a dedicated system with the necessary computing capabilities.\n",
    "\n",
    "In preparation for running the simulation, we need to provide the directory we are in."
   ]
  },
  {
   "cell_type": "code",
   "execution_count": null,
   "metadata": {},
   "outputs": [],
   "source": [
    "inputdir = globalpath+\"/2-umbrella\""
   ]
  },
  {
   "cell_type": "markdown",
   "metadata": {},
   "source": [
    "## The `umbrella` function\n",
    "\n",
    "The tutorial comes with a python wrapper function that is able to set up and run\n",
    "the simulations of all US windows, while also setting up the directories and `mdp`\n",
    "input files. The function requires several arguments that are explained below:\n",
    "\n",
    "* Number of umbrella sampling windows.\n",
    "* Boolean flag that decides on actual running simulation or not.\n",
    "* Maximum COM distance between molecules, needs to be less than half of box length.\n",
    "* Minimum distance, should be physical.\n",
    "* Path to input directory to look up files.\n",
    "* Name of first molecule to be used for COM position\n",
    "* Name of second molecule\n",
    "\n",
    "`umbrella` will call several other functions that create the input files and\n",
    "run the GROMACS binaries that will not be explained in detail."
   ]
  },
  {
   "cell_type": "code",
   "execution_count": null,
   "metadata": {},
   "outputs": [],
   "source": [
    "umbrella(25,False,2.5,0.05,inputdir, group1name = \"mol_1\", group2name = \"mol_2\")"
   ]
  },
  {
   "cell_type": "markdown",
   "metadata": {},
   "source": [
    "After running the script, you will see that it generated a number of directories\n",
    "that contain the run input files for running the simulations.\n",
    "\n",
    "First, lets check the new directories:"
   ]
  },
  {
   "cell_type": "code",
   "execution_count": null,
   "metadata": {},
   "outputs": [],
   "source": [
    "listdirectory('.')"
   ]
  },
  {
   "cell_type": "markdown",
   "metadata": {},
   "source": [
    "You can also check the contents for one of the generated directories:"
   ]
  },
  {
   "cell_type": "code",
   "execution_count": null,
   "metadata": {},
   "outputs": [],
   "source": [
    "listdirectory('./run-1')"
   ]
  },
  {
   "cell_type": "markdown",
   "metadata": {},
   "source": [
    "Print the contents of the mdp files for one run"
   ]
  },
  {
   "cell_type": "code",
   "execution_count": null,
   "metadata": {},
   "outputs": [],
   "source": [
    "with open(\"run-1/prd.1.mdp\") as f:\n",
    "    for line in f:\n",
    "        print line"
   ]
  },
  {
   "cell_type": "markdown",
   "metadata": {},
   "source": [
    "Or compare the files present in several windows through the shell:"
   ]
  },
  {
   "cell_type": "code",
   "execution_count": null,
   "metadata": {},
   "outputs": [],
   "source": [
    "!diff run-1/prd.1.mdp run-14/prd.14.mdp"
   ]
  },
  {
   "cell_type": "markdown",
   "metadata": {},
   "source": [
    "You see that the inputs are identical, except for the intial value of the pull\n",
    "coordinate. This value gives the distance that will be used to calculate the US bias\n",
    "force between the molecules."
   ]
  },
  {
   "cell_type": "markdown",
   "metadata": {},
   "source": [
    "# Data analysis\n",
    "\n",
    "If you have run this simulation, you can now try to analyse it, or proceed with the data that\n",
    "has already been prepared for you in another folder under the main tree.\n",
    "\n",
    "Here, we go to this new folder and analyse the data files present there.\n",
    "If you did run the simulations, you will have to copy the result files there,\n",
    "or change the python command to go to the folder containing your data."
   ]
  },
  {
   "cell_type": "code",
   "execution_count": null,
   "metadata": {},
   "outputs": [],
   "source": [
    "nextdir = globalpath+\"/3-analysis\"\n",
    "os.chdir(nextdir)\n",
    "print os.getcwd()\n",
    "listdirectory('.')"
   ]
  },
  {
   "cell_type": "markdown",
   "metadata": {},
   "source": [
    "## Using `gmx wham`\n",
    "\n",
    "Here, we prepared data files and the setup to execute the `gmx wham` command on\n",
    "the simulation data. If you are unsure about what `gmx wham` does, please have a look\n",
    "at the manual pages (`gmx wham -h`).\n",
    "\n",
    "To obtain the free energy profile and the\n",
    "histograms from the US, we need to have a list of both the input files (*tpr*) and\n",
    "pull coordinate (*pullx*) or pull force (*pullf*) files. This has already been done for\n",
    "you in the files `tpr.dat`, `pullf.dat` and `pullx.dat`.\n",
    "\n",
    "First, lets have a look at those files.\n",
    "\n",
    "When running gmx wham on them, the program will analyse the data found within\n",
    "to build the histograms and final free energy profile. We will do this the\n",
    "most trivial way possible here."
   ]
  },
  {
   "cell_type": "code",
   "execution_count": null,
   "metadata": {},
   "outputs": [],
   "source": [
    "with open(\"tpr.dat\") as f:\n",
    "    for line in f:\n",
    "        print line"
   ]
  },
  {
   "cell_type": "code",
   "execution_count": null,
   "metadata": {},
   "outputs": [],
   "source": [
    "with open(\"pullx.dat\") as f:\n",
    "    for line in f:\n",
    "        print line"
   ]
  },
  {
   "cell_type": "markdown",
   "metadata": {},
   "source": [
    "As you can see, the files contain the names of a number of run input files and pull coordinate files.\n",
    "Those names have to be in the same order for `gmx wham` to analyse them, but no other restrictions apply.\n",
    "\n",
    "For the actual invocation of the program, we will use the coordinates `-ix pullx.dat` and write\n",
    "both the profile (`profile.xvg` by default) and the histograms (`-hist`) to check the sampling overlap between\n",
    "the US windows."
   ]
  },
  {
   "cell_type": "code",
   "execution_count": null,
   "metadata": {},
   "outputs": [],
   "source": [
    "command = \"gmx wham -it tpr.dat -ix pullx.dat -o -hist\"\n",
    "commandlist=command.split()\n",
    "print command\n",
    "print commandlist"
   ]
  },
  {
   "cell_type": "markdown",
   "metadata": {},
   "source": [
    "Executing the command might take a while, so please be patient and wait for it to finish."
   ]
  },
  {
   "cell_type": "code",
   "execution_count": null,
   "metadata": {},
   "outputs": [],
   "source": [
    "subprocess.check_call(commandlist)"
   ]
  },
  {
   "cell_type": "markdown",
   "metadata": {},
   "source": [
    "## Plotting the data\n",
    "\n",
    "The data from `gmx wham` can be plotted with your favourite plotting software.\n",
    "Here, we use the plotting available in the python matplotlib to plot them directly in\n",
    "the notebook.\n",
    "\n",
    "First, we plot the PMF as a one dimensional free energy profile.\n",
    "**Note** We have to modify the value of the free energy from the sampling,\n",
    "as we need to correct our 3D sampling case (one molecule can move freely in all directions around\n",
    "the other except distance) to account for this change to the system entropy."
   ]
  },
  {
   "cell_type": "code",
   "execution_count": null,
   "metadata": {},
   "outputs": [],
   "source": [
    "x, y = [], []\n",
    "\n",
    "with open(\"profile.xvg\") as f:\n",
    "    for line in f:\n",
    "        cols = line.split()\n",
    "        if not line.startswith(('@', '#')):\n",
    "                correctionfactor = float(2*8.314e-3*298.15*math.log(float(cols[0])))\n",
    "                yvalue = float(cols[1])+correctionfactor\n",
    "                x.append(float(cols[0]))\n",
    "                y.append(yvalue)\n",
    "\n",
    "plt.plot(x, y)\n",
    "label = ['Pyrimidine PMF']\n",
    "plt.title('Free energy profile')    \n",
    "\n",
    "plt.xlabel('Umbrella sampling window position (nm)')\n",
    "plt.ylabel('Free Energy (kj/mol)')\n",
    "plt.legend(label);"
   ]
  },
  {
   "cell_type": "code",
   "execution_count": null,
   "metadata": {},
   "outputs": [],
   "source": [
    "# Second plot for the histogram data\n",
    "\n",
    "x, y, labels = [], [], []\n",
    "\n",
    "with open(\"histo.xvg\") as f:\n",
    "    for line in f:\n",
    "        cols = line.split()\n",
    "        if not line.startswith(('@', '#')):\n",
    "\n",
    "            colnum = len(cols)\n",
    "            x.append(float(cols[0]))\n",
    "            tmpy = []\n",
    "            for col in range (1, colnum-1):\n",
    "                tmpy.append(float(cols[col]))\n",
    "            y.append(tmpy)\n",
    "            labels.append('run-'+str(col))\n",
    "\n",
    "for col in range (1, colnum-1):\n",
    "    plt.plot(x, y)\n",
    "    \n",
    "plt.xlabel('Umbrella sampling window position (nm)')\n",
    "plt.ylabel('Counts')\n",
    "plt.title('Umbrella sampling histograms')    \n",
    "#plt.legend(labels);\n"
   ]
  },
  {
   "cell_type": "markdown",
   "metadata": {},
   "source": [
    "The plots can then be analysed to check for e.g. overlap between the individual windows\n",
    "for the histograms, or the free energy profile can be investigated for points that might need\n",
    "more sampling."
   ]
  },
  {
   "cell_type": "markdown",
   "metadata": {},
   "source": [
    "# End of the tutorial\n",
    "\n",
    "I hope you found the tutorial at least somehow helpful, and that you will now be\n",
    "able to set up and run simulations for some simple test cases yourself"
   ]
  },
  {
   "cell_type": "markdown",
   "metadata": {},
   "source": [
    "startdir = globalpath\n",
    "os.chdir(startdir)"
   ]
  },
  {
   "cell_type": "code",
   "execution_count": null,
   "metadata": {},
   "outputs": [],
   "source": []
  }
 ],
 "metadata": {
  "kernelspec": {
   "display_name": "Python 2",
   "language": "python",
   "name": "python2"
  },
  "language_info": {
   "codemirror_mode": {
    "name": "ipython",
    "version": 2
   },
   "file_extension": ".py",
   "mimetype": "text/x-python",
   "name": "python",
   "nbconvert_exporter": "python",
   "pygments_lexer": "ipython2",
   "version": "2.7.15"
  }
 },
 "nbformat": 4,
 "nbformat_minor": 2
}
