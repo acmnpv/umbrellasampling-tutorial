{
 "cells": [
  {
   "cell_type": "code",
   "execution_count": 1,
   "metadata": {},
   "outputs": [],
   "source": [
    "# Disclaimer: This tutorial is by no means meant to be complete in presenting the complex\n",
    "# topic of Umbrella sampling (US) simulations and their analysis. It is meant to provide an\n",
    "# introduction and some initial guidelines on how to perform such simulations and analyse them."
   ]
  },
  {
   "cell_type": "code",
   "execution_count": 2,
   "metadata": {},
   "outputs": [],
   "source": [
    "# All steps in the tutorial can be performed through the notebook interface here, or by\n",
    "# running the individual python scripts that are located in the subfolders with the notebook.\n",
    "# The scripts will by default just prepare the run input files with a small number of steps\n",
    "# to run (so that it can be done on any machine), but can also be invoked with additional\n",
    "# options to perform the acutal simulations that provided the data used in the final analysis."
   ]
  },
  {
   "cell_type": "code",
   "execution_count": 3,
   "metadata": {},
   "outputs": [],
   "source": [
    "# The tutorial is based on material available from both\n",
    "# Justin Lemkul (http://www.bevanlab.biochem.vt.edu/Pages/Personal/justin/gmx-tutorials/umbrella/index.html)\n",
    "# and Wes Barnett (https://wbarnett.us/tutorials/5_umbrella/)\n",
    "# We will be simulating a system of two pyrimidine molecules in water\n",
    "# and will try to estimate the Potential of Mean Force (PMF) for\n",
    "# moving those two molecules together from infinite distance."
   ]
  },
  {
   "cell_type": "code",
   "execution_count": 4,
   "metadata": {},
   "outputs": [],
   "source": [
    "# The files for the pyrimidine topology are available from the\n",
    "# http://virtualchemistry.org/ database on organic molecules.\n",
    "# They can be downloaded here for GROMACS \n",
    "# http://virtualchemistry.org/molecule.php?filename=pyrimidine.zmat\n",
    "# For the tutorial, the files have already been downloaded and prepared\n",
    "# for running, but if you want to try you can prepare a different small\n",
    "# molecule yourself!"
   ]
  },
  {
   "cell_type": "code",
   "execution_count": 5,
   "metadata": {},
   "outputs": [],
   "source": [
    "# The tutorial files are all available through git if not already installed.\n",
    "# To set up the tutorial contents, we will run git clone to obtain\n",
    "# all the files and set up the directory structure"
   ]
  },
  {
   "cell_type": "code",
   "execution_count": 6,
   "metadata": {},
   "outputs": [],
   "source": [
    "# Having set up the folder structure, you can go and explore it through\n",
    "# the terminal and see what is in there. All the files to perform the\n",
    "# simulation and run the analysis are present. We will be now performing\n",
    "# the preparation of the simulations and run some short tests\n",
    "# The following directories are present:\n",
    "# 0-files    -> Containing all the unmodified files used for setting up the simulation\n",
    "#               These include an empty topology with just water in a box, as well\n",
    "#               as the topology files for pyrimidine\n",
    "# 1-topology -> Containing inputs to generate the basic topology with \n",
    "#               two pyrimidine molecules by using gmx insert-molecules\n",
    "#               and the folders for the steps to change the box size, solvation\n",
    "#               and adding of ions \n",
    "# 2-umbrella -> Contains a set of scripts to run the actual simulations\n",
    "#               for each window of the reaction coordinate. This is meant\n",
    "#               to be used on a cluster instead, and running the jobs is not\n",
    "#               part of this tutorial\n",
    "# 3-analysis -> Folder with data from simulations performed previously that can\n",
    "#               be analysed to obtain the PMF of the simulation"
   ]
  },
  {
   "cell_type": "code",
   "execution_count": 7,
   "metadata": {},
   "outputs": [
    {
     "name": "stdout",
     "output_type": "stream",
     "text": [
      "/data/us-tutorial\n"
     ]
    }
   ],
   "source": [
    "import os\n",
    "import shutil\n",
    "import subprocess\n",
    "path = os.getcwd()\n",
    "print path"
   ]
  },
  {
   "cell_type": "code",
   "execution_count": 8,
   "metadata": {},
   "outputs": [],
   "source": [
    "# We start by importing all our helper functions\n",
    "from functions import *\n",
    "# followed by preparation of the actual simulations by checking that we have a GROMACS\n",
    "# installation in our $PATH to make sure we can run the program\n",
    "if not which('gmx'):\n",
    "    print \"%s not found in $PATH\" % 'gmx'\n",
    "# followed by setting the global path name\n",
    "globalpath = os.getcwd()"
   ]
  },
  {
   "cell_type": "code",
   "execution_count": 9,
   "metadata": {},
   "outputs": [],
   "source": [
    "# if the script tells you that gmx (the GROMACS wrapper binary)\n",
    "# is not in the $PATH, close the notebook, source the used GROMACS\n",
    "# installation and try again"
   ]
  },
  {
   "cell_type": "code",
   "execution_count": 10,
   "metadata": {},
   "outputs": [],
   "source": [
    "######################################\n",
    "# Step 1 - Preparing run input files #\n",
    "######################################"
   ]
  },
  {
   "cell_type": "code",
   "execution_count": 11,
   "metadata": {},
   "outputs": [],
   "source": [
    "os.chdir(globalpath+'/1-topology/insert')"
   ]
  },
  {
   "cell_type": "code",
   "execution_count": 12,
   "metadata": {},
   "outputs": [],
   "source": [
    "# Prepare initial topology by inserting two molecules of pyrimidine\n",
    "# into an empty box"
   ]
  },
  {
   "cell_type": "code",
   "execution_count": 13,
   "metadata": {},
   "outputs": [
    {
     "data": {
      "text/plain": [
       "0"
      ]
     },
     "execution_count": 13,
     "metadata": {},
     "output_type": "execute_result"
    }
   ],
   "source": [
    "commandlist = [\"gmx\",\"insert-molecules\",\"-ci\",\"pyrimidine_T298.15_gas.pdb\",\"-box\",\"3\",\"3\",\"3\",\"-nmol\",\"2\",\"-o\",\"pyrimidine_insert.gro\"]\n",
    "subprocess.check_call(commandlist)"
   ]
  },
  {
   "cell_type": "code",
   "execution_count": 14,
   "metadata": {},
   "outputs": [],
   "source": [
    "# this will give us the new structure file with the two molecules randomly oriented\n",
    "# we can copy this file to the next directory to change the size of the \n",
    "# simulation box so that we can later calculate the full PMF"
   ]
  },
  {
   "cell_type": "code",
   "execution_count": 15,
   "metadata": {},
   "outputs": [],
   "source": [
    "structurefile = \"pyrimidine_insert.gro\"\n",
    "nextdir = globalpath+\"/1-topology/box\"\n",
    "\n",
    "shutil.copy2(structurefile,nextdir)\n",
    "os.chdir(nextdir)"
   ]
  },
  {
   "cell_type": "code",
   "execution_count": 16,
   "metadata": {},
   "outputs": [
    {
     "data": {
      "text/plain": [
       "0"
      ]
     },
     "execution_count": 16,
     "metadata": {},
     "output_type": "execute_result"
    }
   ],
   "source": [
    "# in the next directory, we change the box to be 5 nm in each direction\n",
    "commandlist = [\"gmx\", \"editconf\", \"-f\", \"pyrimidine_insert.gro\", \"-o\", \"pyrimidine_largebox.gro\", \"-box\", \"5\", \"5\", \"5\"]\n",
    "subprocess.check_call(commandlist)"
   ]
  },
  {
   "cell_type": "code",
   "execution_count": 17,
   "metadata": {},
   "outputs": [],
   "source": [
    "# we also prepared a topology file, topol.top, that can be used for the later steps\n",
    "# in the same directory. It contains only the basic information for using two molecules\n",
    "# of pyrimidine, as well as the location of the files needed to run the remaining steps\n",
    "# we copy those files to the next directory to solvate the structure before the minimzation\n",
    "# the file will be written with the information about its position, so it can properly include\n",
    "# the correct forcefield that contains the information for pyrimidine"
   ]
  },
  {
   "cell_type": "code",
   "execution_count": 18,
   "metadata": {},
   "outputs": [],
   "source": [
    "writetopfile(\"topol.top\", globalpath)"
   ]
  },
  {
   "cell_type": "code",
   "execution_count": 19,
   "metadata": {},
   "outputs": [],
   "source": [
    "copyfiles = [\"pyrimidine_largebox.gro\", \"topol.top\"]\n",
    "nextdir = globalpath+\"/1-topology/solvate\"\n",
    "\n",
    "for files in copyfiles:\n",
    "    shutil.copy2(files,nextdir)\n",
    "    \n",
    "os.chdir(nextdir)"
   ]
  },
  {
   "cell_type": "code",
   "execution_count": 20,
   "metadata": {},
   "outputs": [],
   "source": [
    "# the next step is basic solvation with gmx solvate"
   ]
  },
  {
   "cell_type": "code",
   "execution_count": 21,
   "metadata": {},
   "outputs": [
    {
     "data": {
      "text/plain": [
       "0"
      ]
     },
     "execution_count": 21,
     "metadata": {},
     "output_type": "execute_result"
    }
   ],
   "source": [
    "commandlist = [\"gmx\", \"solvate\", \"-cp\", \"pyrimidine_largebox.gro\", \"-cs\", \"tip4p\", \"-p\", \"topol.top\", \"-o\", \"solv.gro\"]\n",
    "subprocess.check_call(commandlist)"
   ]
  },
  {
   "cell_type": "code",
   "execution_count": 22,
   "metadata": {},
   "outputs": [],
   "source": [
    "# followed by copying the files again to the final directory, where we add ions to\n",
    "# obtain a physical system\n",
    "copyfiles = [\"solv.gro\", \"topol.top\"]\n",
    "nextdir = globalpath+\"/1-topology/ion\"\n",
    "for files in copyfiles:\n",
    "    shutil.copy2(files,nextdir)\n",
    "    \n",
    "os.chdir(nextdir)"
   ]
  },
  {
   "cell_type": "code",
   "execution_count": 23,
   "metadata": {},
   "outputs": [
    {
     "data": {
      "text/plain": [
       "0"
      ]
     },
     "execution_count": 23,
     "metadata": {},
     "output_type": "execute_result"
    }
   ],
   "source": [
    "# in this directory you will find an example mdp input file that is used\n",
    "# to generate the tpr file needed by gmx genion\n",
    "# first, we run grompp on the structure to generate the tpr\n",
    "commandlist = [\"gmx\", \"grompp\", \"-f\", \"ions\", \"-c\", \"solv\", \"-p\", \"topol\", \"-o\", \"ions\"]\n",
    "subprocess.check_call(commandlist)"
   ]
  },
  {
   "cell_type": "code",
   "execution_count": 24,
   "metadata": {},
   "outputs": [
    {
     "data": {
      "text/plain": [
       "0"
      ]
     },
     "execution_count": 24,
     "metadata": {},
     "output_type": "execute_result"
    }
   ],
   "source": [
    "# next, we run gmx genion to actually add the ions to the structure\n",
    "read, write = os.pipe()\n",
    "os.write(write, \"4\")\n",
    "os.close(write)\n",
    "\n",
    "commandlist = [\"gmx\", \"genion\", \"-s\", \"ions\", \"-nname\", \"CL\", \"-pname\", \"NA\", \"-neutral\", \"-conc\", \"0.15\", \"-o\", \"ions\"]\n",
    "subprocess.check_call(commandlist, stdin=read)"
   ]
  },
  {
   "cell_type": "code",
   "execution_count": 25,
   "metadata": {},
   "outputs": [],
   "source": [
    "# this concludes the topology preparation\n",
    "# next, we will copy the final files to the run directory and prepare the\n",
    "# index file needed to run the simulation with the different pull groups\n",
    "# the index file needs to be modified as shown during the lecture, to add the\n",
    "# groups PYR1 and PYR2 for the two pyrimidine molecules\n",
    "# after you have done this, continue to the next step"
   ]
  },
  {
   "cell_type": "code",
   "execution_count": 26,
   "metadata": {},
   "outputs": [],
   "source": [
    "copyfiles = [\"ions.gro\", \"topol.top\", \"index.ndx\"]\n",
    "nextdir = globalpath+\"/2-umbrella\"\n",
    "for files in copyfiles:\n",
    "    shutil.copy2(files,nextdir)\n",
    "    \n",
    "os.chdir(nextdir)"
   ]
  },
  {
   "cell_type": "code",
   "execution_count": 27,
   "metadata": {},
   "outputs": [],
   "source": [
    "# In this directory, we will run the script that performs the simulation\n",
    "# of the individual umbrella windows. As each of those simulations might take several hours,\n",
    "# we will only prepare a set of example simulations and not actual run all of them.\n",
    "# The python command used to prepare them can also be used to run them, but this should\n",
    "# be done instead on a dedicated system with the necessary computing capabilities"
   ]
  },
  {
   "cell_type": "code",
   "execution_count": 28,
   "metadata": {},
   "outputs": [],
   "source": [
    "inputdir = globalpath+\"/2-umbrella\"\n",
    "umbrella(25,False,2.5,0.05,inputdir)"
   ]
  },
  {
   "cell_type": "code",
   "execution_count": 29,
   "metadata": {},
   "outputs": [],
   "source": [
    "# If you have run this simulation, you can now try to analyse it, or proceed with the data that\n",
    "# has already been prepared for you in another folder.\n",
    "# Here, we go to this new folder and analyse the data files present there.\n",
    "# If you did run the simulations, you will have to copy the result files there\n",
    "nextdir = \"../3-analysis\"\n",
    "os.chdir(nextdir)"
   ]
  },
  {
   "cell_type": "code",
   "execution_count": 30,
   "metadata": {},
   "outputs": [],
   "source": [
    "# Here, we prepared data files and the setup to execute the gmx wham command on\n",
    "# the simulation data. If you are unsure about what gmx wham does, please have a look\n",
    "# at the manual pages (gmx wham -h). To obtain the free energy profile and the\n",
    "# histograms from the US, we need to have a list of both the input files (*tpr) and\n",
    "# pull coordinate (pullx*) or pull force (pullf*) files. This has already been done for\n",
    "# you in the files tpr.dat, pullf.dat and pullx.dat.\n",
    "# When running gmx wham on them, the program will analyse the data found within\n",
    "# to build the histograms and final free energy profile. We will do this the\n",
    "# most trivial way possible here."
   ]
  },
  {
   "cell_type": "code",
   "execution_count": 31,
   "metadata": {},
   "outputs": [
    {
     "data": {
      "text/plain": [
       "0"
      ]
     },
     "execution_count": 31,
     "metadata": {},
     "output_type": "execute_result"
    }
   ],
   "source": [
    "commandlist = [\"gmx\", \"wham\", \"-it\", \"tpr.dat\", \"-ix\", \"pullx.dat\", \"-o\", \"-hist\"]\n",
    "subprocess.check_call(commandlist)"
   ]
  },
  {
   "cell_type": "code",
   "execution_count": 32,
   "metadata": {},
   "outputs": [
    {
     "data": {
      "text/plain": [
       "<matplotlib.figure.Figure at 0x7f21980c6550>"
      ]
     },
     "metadata": {},
     "output_type": "display_data"
    }
   ],
   "source": [
    "# The program generated for us now the plot files in xvg format, that can be opened here\n",
    "# for visualization. First, the free energy profile\n",
    "import numpy as np\n",
    "import matplotlib.pyplot as plt\n",
    "\n",
    "x, y = [], []\n",
    "\n",
    "with open(\"profile.xvg\") as f:\n",
    "    for line in f:\n",
    "        cols = line.split()\n",
    "        if not line.startswith('@') and not line.startswith('#'):\n",
    "\n",
    "                x.append(float(cols[0]))\n",
    "                y.append(float(cols[1]))\n",
    "\n",
    "\n",
    "fig = plt.figure()\n",
    "ax1 = fig.add_subplot(111)\n",
    "ax1.set_title(\"Free energy profile\")    \n",
    "ax1.set_xlabel('Umbrella sampling window position (A)')\n",
    "ax1.set_ylabel('Energy (kJ/mol)')\n",
    "ax1.plot(x,y, c='r', label='Pyrimidine PMF')\n",
    "leg = ax1.legend()\n",
    "plt.show()"
   ]
  },
  {
   "cell_type": "code",
   "execution_count": 33,
   "metadata": {},
   "outputs": [
    {
     "data": {
      "image/png": "[encoded data removed]",
      "text/plain": [
       "<matplotlib.figure.Figure at 0x7f2199c69290>"
      ]
     },
     "metadata": {},
     "output_type": "display_data"
    }
   ],
   "source": [
    "# Second plot for the histogram data\n",
    "import numpy as np\n",
    "import matplotlib.pyplot as plt\n",
    "\n",
    "x, y = [], []\n",
    "\n",
    "with open(\"histo.xvg\") as f:\n",
    "    for line in f:\n",
    "        cols = line.split()\n",
    "        if not line.startswith('@') and not line.startswith('#'):\n",
    "\n",
    "            colnum = len(cols)\n",
    "            x.append(float(cols[0]))\n",
    "            tmpy = []\n",
    "            for col in range (1, colnum-1):\n",
    "                tmpy.append(float(cols[col]))\n",
    "            y.append(tmpy)\n",
    "\n",
    "\n",
    "fig = plt.figure()\n",
    "ax1 = fig.add_subplot(111)\n",
    "ax1.set_title(\"Umbrella sampling histograms\")    \n",
    "ax1.set_xlabel('Umbrella sampling window position (A)')\n",
    "ax1.set_ylabel('Counts')\n",
    "ax1.plot(x,y, c='r', label='Pyrimidine Histogram population')\n",
    "leg = ax1.legend()\n",
    "plt.show()"
   ]
  },
  {
   "cell_type": "code",
   "execution_count": null,
   "metadata": {},
   "outputs": [],
   "source": []
  }
 ],
 "metadata": {
  "kernelspec": {
   "display_name": "Python 2",
   "language": "python",
   "name": "python2"
  },
  "language_info": {
   "codemirror_mode": {
    "name": "ipython",
    "version": 2
   },
   "file_extension": ".py",
   "mimetype": "text/x-python",
   "name": "python",
   "nbconvert_exporter": "python",
   "pygments_lexer": "ipython2",
   "version": "2.7.15"
  }
 },
 "nbformat": 4,
 "nbformat_minor": 2
}
